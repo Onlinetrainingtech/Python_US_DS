{
 "cells": [
  {
   "cell_type": "code",
   "execution_count": 22,
   "id": "05673447",
   "metadata": {},
   "outputs": [],
   "source": [
    "import pandas as pd\n",
    "import seaborn as sns\n",
    "import matplotlib.pyplot as plt\n",
    "from sklearn.model_selection import train_test_split\n",
    "from sklearn import metrics\n",
    "from sklearn.metrics import confusion_matrix\n",
    "from sklearn import tree"
   ]
  },
  {
   "cell_type": "code",
   "execution_count": 8,
   "id": "d0acb69b",
   "metadata": {},
   "outputs": [
    {
     "name": "stdout",
     "output_type": "stream",
     "text": [
      "         ID                 Name      Date  Time Event Status Latitude  \\\n",
      "0  EP011949              UNNAMED  19490611     0           TS    20.2N   \n",
      "1  EP011949              UNNAMED  19490611   600           TS    20.2N   \n",
      "2  EP011949              UNNAMED  19490611  1200           TS    20.2N   \n",
      "3  EP011949              UNNAMED  19490611  1800           TS    20.3N   \n",
      "4  EP011949              UNNAMED  19490612     0           TS    20.4N   \n",
      "\n",
      "  Longitude  Maximum Wind  Minimum Pressure  ...  Low Wind SW  Low Wind NW  \\\n",
      "0    106.3W            45              -999  ...         -999         -999   \n",
      "1    106.4W            45              -999  ...         -999         -999   \n",
      "2    106.7W            45              -999  ...         -999         -999   \n",
      "3    107.7W            45              -999  ...         -999         -999   \n",
      "4    108.6W            45              -999  ...         -999         -999   \n",
      "\n",
      "   Moderate Wind NE  Moderate Wind SE  Moderate Wind SW  Moderate Wind NW  \\\n",
      "0              -999              -999              -999              -999   \n",
      "1              -999              -999              -999              -999   \n",
      "2              -999              -999              -999              -999   \n",
      "3              -999              -999              -999              -999   \n",
      "4              -999              -999              -999              -999   \n",
      "\n",
      "   High Wind NE  High Wind SE  High Wind SW  High Wind NW  \n",
      "0          -999          -999          -999          -999  \n",
      "1          -999          -999          -999          -999  \n",
      "2          -999          -999          -999          -999  \n",
      "3          -999          -999          -999          -999  \n",
      "4          -999          -999          -999          -999  \n",
      "\n",
      "[5 rows x 22 columns]\n"
     ]
    }
   ],
   "source": [
    "data=pd.read_csv('Datasets/pacific.csv')\n",
    "print(data.head(5))"
   ]
  },
  {
   "cell_type": "code",
   "execution_count": 11,
   "id": "d00b755c",
   "metadata": {},
   "outputs": [
    {
     "name": "stdout",
     "output_type": "stream",
     "text": [
      "         ID                 Name      Date  Time Event Status Latitude  \\\n",
      "0  EP011949              UNNAMED  19490611     0           TS    20.2N   \n",
      "1  EP011949              UNNAMED  19490611   600           TS    20.2N   \n",
      "2  EP011949              UNNAMED  19490611  1200           TS    20.2N   \n",
      "3  EP011949              UNNAMED  19490611  1800           TS    20.3N   \n",
      "4  EP011949              UNNAMED  19490612     0           TS    20.4N   \n",
      "\n",
      "  Longitude  Maximum Wind  Minimum Pressure  ...  Low Wind SW  Low Wind NW  \\\n",
      "0    106.3W            45              -999  ...         -999         -999   \n",
      "1    106.4W            45              -999  ...         -999         -999   \n",
      "2    106.7W            45              -999  ...         -999         -999   \n",
      "3    107.7W            45              -999  ...         -999         -999   \n",
      "4    108.6W            45              -999  ...         -999         -999   \n",
      "\n",
      "   Moderate Wind NE  Moderate Wind SE  Moderate Wind SW  Moderate Wind NW  \\\n",
      "0              -999              -999              -999              -999   \n",
      "1              -999              -999              -999              -999   \n",
      "2              -999              -999              -999              -999   \n",
      "3              -999              -999              -999              -999   \n",
      "4              -999              -999              -999              -999   \n",
      "\n",
      "   High Wind NE  High Wind SE  High Wind SW  High Wind NW  \n",
      "0          -999          -999          -999          -999  \n",
      "1          -999          -999          -999          -999  \n",
      "2          -999          -999          -999          -999  \n",
      "3          -999          -999          -999          -999  \n",
      "4          -999          -999          -999          -999  \n",
      "\n",
      "[5 rows x 22 columns]\n"
     ]
    }
   ],
   "source": [
    "data=pd.read_csv('Datasets/pacific.csv')\n",
    "print(data.head(5))\n",
    "data.Status=pd.Categorical(data.Status)\n",
    "data['Status']=data.Status.cat.codes"
   ]
  },
  {
   "cell_type": "code",
   "execution_count": 12,
   "id": "1854e53e",
   "metadata": {},
   "outputs": [
    {
     "data": {
      "image/png": "[encoded data removed]",
      "text/plain": [
       "<Figure size 640x480 with 1 Axes>"
      ]
     },
     "metadata": {},
     "output_type": "display_data"
    }
   ],
   "source": [
    "sns.countplot(data['Status'],label=\"Count\")\n",
    "plt.show()"
   ]
  },
  {
   "cell_type": "code",
   "execution_count": 13,
   "id": "4cc2f07a",
   "metadata": {},
   "outputs": [
    {
     "name": "stdout",
     "output_type": "stream",
     "text": [
      "['Date', 'Time', 'Maximum Wind', 'Minimum Pressure', 'Low Wind NE', 'Low Wind SE', 'Low Wind SW', 'Low Wind NW', 'Moderate Wind NE', 'Moderate Wind SE', 'Moderate Wind SW', 'Moderate Wind NW', 'High Wind NE', 'High Wind SE', 'High Wind SW', 'High Wind NW']\n"
     ]
    },
    {
     "name": "stderr",
     "output_type": "stream",
     "text": [
      "C:\\Users\\azart\\AppData\\Local\\Temp\\ipykernel_19148\\1777803218.py:2: SettingWithCopyWarning: \n",
      "A value is trying to be set on a copy of a slice from a DataFrame\n",
      "\n",
      "See the caveats in the documentation: https://pandas.pydata.org/pandas-docs/stable/user_guide/indexing.html#returning-a-view-versus-a-copy\n",
      "  pred_columns.drop(['Status'],axis=1,inplace=True)\n",
      "C:\\Users\\azart\\AppData\\Local\\Temp\\ipykernel_19148\\1777803218.py:3: SettingWithCopyWarning: \n",
      "A value is trying to be set on a copy of a slice from a DataFrame\n",
      "\n",
      "See the caveats in the documentation: https://pandas.pydata.org/pandas-docs/stable/user_guide/indexing.html#returning-a-view-versus-a-copy\n",
      "  pred_columns.drop(['Event'],axis=1,inplace=True)\n",
      "C:\\Users\\azart\\AppData\\Local\\Temp\\ipykernel_19148\\1777803218.py:4: SettingWithCopyWarning: \n",
      "A value is trying to be set on a copy of a slice from a DataFrame\n",
      "\n",
      "See the caveats in the documentation: https://pandas.pydata.org/pandas-docs/stable/user_guide/indexing.html#returning-a-view-versus-a-copy\n",
      "  pred_columns.drop(['Latitude'],axis=1,inplace=True)\n",
      "C:\\Users\\azart\\AppData\\Local\\Temp\\ipykernel_19148\\1777803218.py:5: SettingWithCopyWarning: \n",
      "A value is trying to be set on a copy of a slice from a DataFrame\n",
      "\n",
      "See the caveats in the documentation: https://pandas.pydata.org/pandas-docs/stable/user_guide/indexing.html#returning-a-view-versus-a-copy\n",
      "  pred_columns.drop(['Longitude'],axis=1,inplace=True)\n",
      "C:\\Users\\azart\\AppData\\Local\\Temp\\ipykernel_19148\\1777803218.py:6: SettingWithCopyWarning: \n",
      "A value is trying to be set on a copy of a slice from a DataFrame\n",
      "\n",
      "See the caveats in the documentation: https://pandas.pydata.org/pandas-docs/stable/user_guide/indexing.html#returning-a-view-versus-a-copy\n",
      "  pred_columns.drop(['ID'],axis=1,inplace=True)\n",
      "C:\\Users\\azart\\AppData\\Local\\Temp\\ipykernel_19148\\1777803218.py:7: SettingWithCopyWarning: \n",
      "A value is trying to be set on a copy of a slice from a DataFrame\n",
      "\n",
      "See the caveats in the documentation: https://pandas.pydata.org/pandas-docs/stable/user_guide/indexing.html#returning-a-view-versus-a-copy\n",
      "  pred_columns.drop(['Name'],axis=1,inplace=True)\n"
     ]
    }
   ],
   "source": [
    "pred_columns=data[:]\n",
    "pred_columns.drop(['Status'],axis=1,inplace=True)\n",
    "pred_columns.drop(['Event'],axis=1,inplace=True)\n",
    "pred_columns.drop(['Latitude'],axis=1,inplace=True)\n",
    "pred_columns.drop(['Longitude'],axis=1,inplace=True)\n",
    "pred_columns.drop(['ID'],axis=1,inplace=True)\n",
    "pred_columns.drop(['Name'],axis=1,inplace=True)\n",
    "predication_var=pred_columns.columns\n",
    "print(list(predication_var))"
   ]
  },
  {
   "cell_type": "code",
   "execution_count": 14,
   "id": "1b5b65e5",
   "metadata": {},
   "outputs": [
    {
     "name": "stdout",
     "output_type": "stream",
     "text": [
      "(18295, 22)\n",
      "(7842, 22)\n"
     ]
    }
   ],
   "source": [
    "train,test=train_test_split(data,test_size=0.3)\n",
    "print(train.shape)\n",
    "print(test.shape)"
   ]
  },
  {
   "cell_type": "code",
   "execution_count": 17,
   "id": "a541cb48",
   "metadata": {},
   "outputs": [
    {
     "name": "stdout",
     "output_type": "stream",
     "text": [
      "['ID', 'Name', 'Date', 'Time', 'Event', 'Status', 'Latitude', 'Longitude', 'Maximum Wind', 'Minimum Pressure', 'Low Wind NE', 'Low Wind SE', 'Low Wind SW', 'Low Wind NW', 'Moderate Wind NE', 'Moderate Wind SE', 'Moderate Wind SW', 'Moderate Wind NW', 'High Wind NE', 'High Wind SE', 'High Wind SW', 'High Wind NW']\n",
      "['ID', 'Name', 'Date', 'Time', 'Event', 'Status', 'Latitude', 'Longitude', 'Maximum Wind', 'Minimum Pressure', 'Low Wind NE', 'Low Wind SE', 'Low Wind SW', 'Low Wind NW', 'Moderate Wind NE', 'Moderate Wind SE', 'Moderate Wind SW', 'Moderate Wind NW', 'High Wind NE', 'High Wind SE', 'High Wind SW', 'High Wind NW']\n"
     ]
    }
   ],
   "source": [
    "#taking the training data input\n",
    "train_X=train[predication_var]\n",
    "train_Y=train['Status']\n",
    "print(list(train.columns))\n",
    "\n",
    "#Same for test\n",
    "test_X=test[predication_var]#taking test data inputs\n",
    "test_Y=test['Status']#output value of test data\n",
    "print(list(test.columns))"
   ]
  },
  {
   "cell_type": "code",
   "execution_count": 26,
   "id": "3e0f5eb9",
   "metadata": {},
   "outputs": [
    {
     "ename": "ValueError",
     "evalue": "Found input variables with inconsistent numbers of samples: [7842, 26137]",
     "output_type": "error",
     "traceback": [
      "\u001b[1;31m---------------------------------------------------------------------------\u001b[0m",
      "\u001b[1;31mValueError\u001b[0m                                Traceback (most recent call last)",
      "Cell \u001b[1;32mIn[26], line 3\u001b[0m\n\u001b[0;32m      1\u001b[0m \u001b[38;5;66;03m#Confusion Matrix\u001b[39;00m\n\u001b[1;32m----> 3\u001b[0m cnf_matrix_gnb\u001b[38;5;241m=\u001b[39m\u001b[43mconfusion_matrix\u001b[49m\u001b[43m(\u001b[49m\u001b[43mtest_Y\u001b[49m\u001b[43m,\u001b[49m\u001b[43mpred_columns\u001b[49m\u001b[43m)\u001b[49m\n\u001b[0;32m      4\u001b[0m \u001b[38;5;28mprint\u001b[39m(cnf_matrix_gnb)\n",
      "File \u001b[1;32m~\\anaconda3\\lib\\site-packages\\sklearn\\metrics\\_classification.py:317\u001b[0m, in \u001b[0;36mconfusion_matrix\u001b[1;34m(y_true, y_pred, labels, sample_weight, normalize)\u001b[0m\n\u001b[0;32m    232\u001b[0m \u001b[38;5;28;01mdef\u001b[39;00m \u001b[38;5;21mconfusion_matrix\u001b[39m(\n\u001b[0;32m    233\u001b[0m     y_true, y_pred, \u001b[38;5;241m*\u001b[39m, labels\u001b[38;5;241m=\u001b[39m\u001b[38;5;28;01mNone\u001b[39;00m, sample_weight\u001b[38;5;241m=\u001b[39m\u001b[38;5;28;01mNone\u001b[39;00m, normalize\u001b[38;5;241m=\u001b[39m\u001b[38;5;28;01mNone\u001b[39;00m\n\u001b[0;32m    234\u001b[0m ):\n\u001b[0;32m    235\u001b[0m \u001b[38;5;250m    \u001b[39m\u001b[38;5;124;03m\"\"\"Compute confusion matrix to evaluate the accuracy of a classification.\u001b[39;00m\n\u001b[0;32m    236\u001b[0m \n\u001b[0;32m    237\u001b[0m \u001b[38;5;124;03m    By definition a confusion matrix :math:`C` is such that :math:`C_{i, j}`\u001b[39;00m\n\u001b[1;32m   (...)\u001b[0m\n\u001b[0;32m    315\u001b[0m \u001b[38;5;124;03m    (0, 2, 1, 1)\u001b[39;00m\n\u001b[0;32m    316\u001b[0m \u001b[38;5;124;03m    \"\"\"\u001b[39;00m\n\u001b[1;32m--> 317\u001b[0m     y_type, y_true, y_pred \u001b[38;5;241m=\u001b[39m \u001b[43m_check_targets\u001b[49m\u001b[43m(\u001b[49m\u001b[43my_true\u001b[49m\u001b[43m,\u001b[49m\u001b[43m \u001b[49m\u001b[43my_pred\u001b[49m\u001b[43m)\u001b[49m\n\u001b[0;32m    318\u001b[0m     \u001b[38;5;28;01mif\u001b[39;00m y_type \u001b[38;5;129;01mnot\u001b[39;00m \u001b[38;5;129;01min\u001b[39;00m (\u001b[38;5;124m\"\u001b[39m\u001b[38;5;124mbinary\u001b[39m\u001b[38;5;124m\"\u001b[39m, \u001b[38;5;124m\"\u001b[39m\u001b[38;5;124mmulticlass\u001b[39m\u001b[38;5;124m\"\u001b[39m):\n\u001b[0;32m    319\u001b[0m         \u001b[38;5;28;01mraise\u001b[39;00m \u001b[38;5;167;01mValueError\u001b[39;00m(\u001b[38;5;124m\"\u001b[39m\u001b[38;5;132;01m%s\u001b[39;00m\u001b[38;5;124m is not supported\u001b[39m\u001b[38;5;124m\"\u001b[39m \u001b[38;5;241m%\u001b[39m y_type)\n",
      "File \u001b[1;32m~\\anaconda3\\lib\\site-packages\\sklearn\\metrics\\_classification.py:86\u001b[0m, in \u001b[0;36m_check_targets\u001b[1;34m(y_true, y_pred)\u001b[0m\n\u001b[0;32m     59\u001b[0m \u001b[38;5;28;01mdef\u001b[39;00m \u001b[38;5;21m_check_targets\u001b[39m(y_true, y_pred):\n\u001b[0;32m     60\u001b[0m \u001b[38;5;250m    \u001b[39m\u001b[38;5;124;03m\"\"\"Check that y_true and y_pred belong to the same classification task.\u001b[39;00m\n\u001b[0;32m     61\u001b[0m \n\u001b[0;32m     62\u001b[0m \u001b[38;5;124;03m    This converts multiclass or binary types to a common shape, and raises a\u001b[39;00m\n\u001b[1;32m   (...)\u001b[0m\n\u001b[0;32m     84\u001b[0m \u001b[38;5;124;03m    y_pred : array or indicator matrix\u001b[39;00m\n\u001b[0;32m     85\u001b[0m \u001b[38;5;124;03m    \"\"\"\u001b[39;00m\n\u001b[1;32m---> 86\u001b[0m     \u001b[43mcheck_consistent_length\u001b[49m\u001b[43m(\u001b[49m\u001b[43my_true\u001b[49m\u001b[43m,\u001b[49m\u001b[43m \u001b[49m\u001b[43my_pred\u001b[49m\u001b[43m)\u001b[49m\n\u001b[0;32m     87\u001b[0m     type_true \u001b[38;5;241m=\u001b[39m type_of_target(y_true, input_name\u001b[38;5;241m=\u001b[39m\u001b[38;5;124m\"\u001b[39m\u001b[38;5;124my_true\u001b[39m\u001b[38;5;124m\"\u001b[39m)\n\u001b[0;32m     88\u001b[0m     type_pred \u001b[38;5;241m=\u001b[39m type_of_target(y_pred, input_name\u001b[38;5;241m=\u001b[39m\u001b[38;5;124m\"\u001b[39m\u001b[38;5;124my_pred\u001b[39m\u001b[38;5;124m\"\u001b[39m)\n",
      "File \u001b[1;32m~\\anaconda3\\lib\\site-packages\\sklearn\\utils\\validation.py:397\u001b[0m, in \u001b[0;36mcheck_consistent_length\u001b[1;34m(*arrays)\u001b[0m\n\u001b[0;32m    395\u001b[0m uniques \u001b[38;5;241m=\u001b[39m np\u001b[38;5;241m.\u001b[39munique(lengths)\n\u001b[0;32m    396\u001b[0m \u001b[38;5;28;01mif\u001b[39;00m \u001b[38;5;28mlen\u001b[39m(uniques) \u001b[38;5;241m>\u001b[39m \u001b[38;5;241m1\u001b[39m:\n\u001b[1;32m--> 397\u001b[0m     \u001b[38;5;28;01mraise\u001b[39;00m \u001b[38;5;167;01mValueError\u001b[39;00m(\n\u001b[0;32m    398\u001b[0m         \u001b[38;5;124m\"\u001b[39m\u001b[38;5;124mFound input variables with inconsistent numbers of samples: \u001b[39m\u001b[38;5;132;01m%r\u001b[39;00m\u001b[38;5;124m\"\u001b[39m\n\u001b[0;32m    399\u001b[0m         \u001b[38;5;241m%\u001b[39m [\u001b[38;5;28mint\u001b[39m(l) \u001b[38;5;28;01mfor\u001b[39;00m l \u001b[38;5;129;01min\u001b[39;00m lengths]\n\u001b[0;32m    400\u001b[0m     )\n",
      "\u001b[1;31mValueError\u001b[0m: Found input variables with inconsistent numbers of samples: [7842, 26137]"
     ]
    }
   ],
   "source": [
    "#Confusion Matrix\n",
    "\n",
    "cnf_matrix_gnb=confusion_matrix(test_Y,p)\n",
    "print(cnf_matrix_gnb)"
   ]
  }
 ],
 "metadata": {
  "kernelspec": {
   "display_name": "Python 3 (ipykernel)",
   "language": "python",
   "name": "python3"
  },
  "language_info": {
   "codemirror_mode": {
    "name": "ipython",
    "version": 3
   },
   "file_extension": ".py",
   "mimetype": "text/x-python",
   "name": "python",
   "nbconvert_exporter": "python",
   "pygments_lexer": "ipython3",
   "version": "3.10.9"
  }
 },
 "nbformat": 4,
 "nbformat_minor": 5
}
