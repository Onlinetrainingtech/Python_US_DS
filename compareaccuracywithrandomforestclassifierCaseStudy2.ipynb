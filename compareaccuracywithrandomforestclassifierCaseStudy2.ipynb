{
 "cells": [
  {
   "cell_type": "code",
   "execution_count": 1,
   "id": "75a49262",
   "metadata": {},
   "outputs": [],
   "source": [
    "import pandas as pd\n",
    "import matplotlib.pyplot as plt\n",
    "%matplotlib inline"
   ]
  },
  {
   "cell_type": "code",
   "execution_count": 2,
   "id": "9c558e76",
   "metadata": {},
   "outputs": [],
   "source": [
    "animals=pd.read_csv(\"Datasets/horse.csv\")"
   ]
  },
  {
   "cell_type": "code",
   "execution_count": 3,
   "id": "7abc3437",
   "metadata": {},
   "outputs": [
    {
     "name": "stdout",
     "output_type": "stream",
     "text": [
      "  surgery    age  hospital_number  rectal_temp  pulse  respiratory_rate  \\\n",
      "0      no  adult           530101         38.5   66.0              28.0   \n",
      "1     yes  adult           534817         39.2   88.0              20.0   \n",
      "2      no  adult           530334         38.3   40.0              24.0   \n",
      "3     yes  young          5290409         39.1  164.0              84.0   \n",
      "4      no  adult           530255         37.3  104.0              35.0   \n",
      "\n",
      "  temp_of_extremities peripheral_pulse mucous_membrane capillary_refill_time  \\\n",
      "0                cool          reduced             NaN            more_3_sec   \n",
      "1                 NaN              NaN   pale_cyanotic            less_3_sec   \n",
      "2              normal           normal       pale_pink            less_3_sec   \n",
      "3                cold           normal   dark_cyanotic            more_3_sec   \n",
      "4                 NaN              NaN   dark_cyanotic            more_3_sec   \n",
      "\n",
      "   ... packed_cell_volume total_protein abdomo_appearance abdomo_protein  \\\n",
      "0  ...               45.0           8.4               NaN            NaN   \n",
      "1  ...               50.0          85.0            cloudy            2.0   \n",
      "2  ...               33.0           6.7               NaN            NaN   \n",
      "3  ...               48.0           7.2     serosanguious            5.3   \n",
      "4  ...               74.0           7.4               NaN            NaN   \n",
      "\n",
      "      outcome  surgical_lesion lesion_1 lesion_2  lesion_3  cp_data  \n",
      "0        died               no    11300        0         0       no  \n",
      "1  euthanized               no     2208        0         0       no  \n",
      "2       lived               no        0        0         0      yes  \n",
      "3        died              yes     2208        0         0      yes  \n",
      "4        died               no     4300        0         0       no  \n",
      "\n",
      "[5 rows x 28 columns]\n"
     ]
    }
   ],
   "source": [
    "print(animals.head())"
   ]
  },
  {
   "cell_type": "code",
   "execution_count": 4,
   "id": "3df4cba2",
   "metadata": {},
   "outputs": [],
   "source": [
    "target=animals['outcome']"
   ]
  },
  {
   "cell_type": "code",
   "execution_count": 6,
   "id": "d9f2a69c",
   "metadata": {},
   "outputs": [
    {
     "data": {
      "text/plain": [
       "array(['died', 'euthanized', 'lived'], dtype=object)"
      ]
     },
     "execution_count": 6,
     "metadata": {},
     "output_type": "execute_result"
    }
   ],
   "source": [
    "target.unique()"
   ]
  },
  {
   "cell_type": "code",
   "execution_count": 7,
   "id": "c92a45cc",
   "metadata": {},
   "outputs": [],
   "source": [
    "animals=animals.drop(['outcome'],axis=1)"
   ]
  },
  {
   "cell_type": "code",
   "execution_count": 9,
   "id": "616d98cf",
   "metadata": {},
   "outputs": [],
   "source": [
    "category_variables = ['surgery', 'age', 'temp_of_extremities','peripheral_pulse',\n",
    "       'mucous_membrane', 'capillary_refill_time', 'pain', 'peristalsis',\n",
    "       'abdominal_distention', 'nasogastric_tube', 'nasogastric_reflux', 'rectal_exam_feces', 'abdomen',\n",
    "      'abdomo_appearance', 'surgical_lesion','cp_data']\n"
   ]
  },
  {
   "cell_type": "code",
   "execution_count": 10,
   "id": "f7db47b0",
   "metadata": {},
   "outputs": [
    {
     "data": {
      "text/plain": [
       "['surgery',\n",
       " 'age',\n",
       " 'temp_of_extremities',\n",
       " 'peripheral_pulse',\n",
       " 'mucous_membrane',\n",
       " 'capillary_refill_time',\n",
       " 'pain',\n",
       " 'peristalsis',\n",
       " 'abdominal_distention',\n",
       " 'nasogastric_tube',\n",
       " 'nasogastric_reflux',\n",
       " 'rectal_exam_feces',\n",
       " 'abdomen',\n",
       " 'abdomo_appearance',\n",
       " 'surgical_lesion',\n",
       " 'cp_data']"
      ]
     },
     "execution_count": 10,
     "metadata": {},
     "output_type": "execute_result"
    }
   ],
   "source": [
    "category_variables"
   ]
  },
  {
   "cell_type": "code",
   "execution_count": 11,
   "id": "348e8b08",
   "metadata": {},
   "outputs": [],
   "source": [
    "from sklearn.model_selection import train_test_split\n",
    "from sklearn.preprocessing import LabelEncoder\n",
    "X,Y=animals.values,target.values"
   ]
  },
  {
   "cell_type": "code",
   "execution_count": 13,
   "id": "c26766fb",
   "metadata": {},
   "outputs": [],
   "source": [
    "label_encoder=LabelEncoder()\n",
    "Y=label_encoder.fit_transform(Y)\n",
    "X_train,X_test,Y_train,Y_test=train_test_split(X,Y,test_size=0.2,random_state=1)"
   ]
  },
  {
   "cell_type": "code",
   "execution_count": 14,
   "id": "1613ae29",
   "metadata": {},
   "outputs": [
    {
     "name": "stdout",
     "output_type": "stream",
     "text": [
      "(239, 27)\n"
     ]
    }
   ],
   "source": [
    "from sklearn.tree import DecisionTreeClassifier\n",
    "print(X_train.shape)"
   ]
  },
  {
   "cell_type": "code",
   "execution_count": 15,
   "id": "7fab4013",
   "metadata": {},
   "outputs": [
    {
     "ename": "ImportError",
     "evalue": "cannot import name 'Imputer' from 'sklearn.preprocessing' (C:\\Users\\azart\\anaconda3\\lib\\site-packages\\sklearn\\preprocessing\\__init__.py)",
     "output_type": "error",
     "traceback": [
      "\u001b[1;31m---------------------------------------------------------------------------\u001b[0m",
      "\u001b[1;31mImportError\u001b[0m                               Traceback (most recent call last)",
      "Cell \u001b[1;32mIn[15], line 1\u001b[0m\n\u001b[1;32m----> 1\u001b[0m \u001b[38;5;28;01mfrom\u001b[39;00m \u001b[38;5;21;01msklearn\u001b[39;00m\u001b[38;5;21;01m.\u001b[39;00m\u001b[38;5;21;01mpreprocessing\u001b[39;00m \u001b[38;5;28;01mimport\u001b[39;00m Imputer\n",
      "\u001b[1;31mImportError\u001b[0m: cannot import name 'Imputer' from 'sklearn.preprocessing' (C:\\Users\\azart\\anaconda3\\lib\\site-packages\\sklearn\\preprocessing\\__init__.py)"
     ]
    }
   ],
   "source": [
    "from sklearn.preprocessing import Imputer"
   ]
  }
 ],
 "metadata": {
  "kernelspec": {
   "display_name": "Python 3 (ipykernel)",
   "language": "python",
   "name": "python3"
  },
  "language_info": {
   "codemirror_mode": {
    "name": "ipython",
    "version": 3
   },
   "file_extension": ".py",
   "mimetype": "text/x-python",
   "name": "python",
   "nbconvert_exporter": "python",
   "pygments_lexer": "ipython3",
   "version": "3.10.9"
  }
 },
 "nbformat": 4,
 "nbformat_minor": 5
}
