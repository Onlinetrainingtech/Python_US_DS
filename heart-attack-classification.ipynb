{
 "cells": [
  {
   "cell_type": "code",
   "execution_count": 1,
   "id": "da39125d",
   "metadata": {
    "ExecuteTime": {
     "end_time": "2023-11-02T06:28:12.982562700Z",
     "start_time": "2023-11-02T06:28:12.973642300Z"
    },
    "execution": {
     "iopub.execute_input": "2023-11-02T08:02:39.116829Z",
     "iopub.status.busy": "2023-11-02T08:02:39.116288Z",
     "iopub.status.idle": "2023-11-02T08:02:41.300358Z",
     "shell.execute_reply": "2023-11-02T08:02:41.299014Z"
    },
    "papermill": {
     "duration": 2.19497,
     "end_time": "2023-11-02T08:02:41.303425",
     "exception": false,
     "start_time": "2023-11-02T08:02:39.108455",
     "status": "completed"
    },
    "tags": []
   },
   "outputs": [],
   "source": [
    "import seaborn as sns\n",
    "import matplotlib.pyplot as plt\n",
    "import numpy as np\n",
    "import pandas as pd\n"
   ]
  },
  {
   "cell_type": "code",
   "execution_count": 2,
   "id": "9de5b94d",
   "metadata": {
    "ExecuteTime": {
     "end_time": "2023-11-02T06:28:13.071017500Z",
     "start_time": "2023-11-02T06:28:12.984577Z"
    },
    "execution": {
     "iopub.execute_input": "2023-11-02T08:02:41.318719Z",
     "iopub.status.busy": "2023-11-02T08:02:41.318184Z",
     "iopub.status.idle": "2023-11-02T08:02:41.370859Z",
     "shell.execute_reply": "2023-11-02T08:02:41.369423Z"
    },
    "jupyter": {
     "outputs_hidden": false
    },
    "papermill": {
     "duration": 0.062479,
     "end_time": "2023-11-02T08:02:41.373598",
     "exception": false,
     "start_time": "2023-11-02T08:02:41.311119",
     "status": "completed"
    },
    "tags": []
   },
   "outputs": [
    {
     "data": {
      "text/html": [
       "<div>\n",
       "<style scoped>\n",
       "    .dataframe tbody tr th:only-of-type {\n",
       "        vertical-align: middle;\n",
       "    }\n",
       "\n",
       "    .dataframe tbody tr th {\n",
       "        vertical-align: top;\n",
       "    }\n",
       "\n",
       "    .dataframe thead th {\n",
       "        text-align: right;\n",
       "    }\n",
       "</style>\n",
       "<table border=\"1\" class=\"dataframe\">\n",
       "  <thead>\n",
       "    <tr style=\"text-align: right;\">\n",
       "      <th></th>\n",
       "      <th>age</th>\n",
       "      <th>sex</th>\n",
       "      <th>cp</th>\n",
       "      <th>trtbps</th>\n",
       "      <th>chol</th>\n",
       "      <th>fbs</th>\n",
       "      <th>restecg</th>\n",
       "      <th>thalachh</th>\n",
       "      <th>exng</th>\n",
       "      <th>oldpeak</th>\n",
       "      <th>slp</th>\n",
       "      <th>caa</th>\n",
       "      <th>thall</th>\n",
       "      <th>output</th>\n",
       "    </tr>\n",
       "  </thead>\n",
       "  <tbody>\n",
       "    <tr>\n",
       "      <th>0</th>\n",
       "      <td>63</td>\n",
       "      <td>1</td>\n",
       "      <td>3</td>\n",
       "      <td>145</td>\n",
       "      <td>233</td>\n",
       "      <td>1</td>\n",
       "      <td>0</td>\n",
       "      <td>150</td>\n",
       "      <td>0</td>\n",
       "      <td>2.3</td>\n",
       "      <td>0</td>\n",
       "      <td>0</td>\n",
       "      <td>1</td>\n",
       "      <td>1</td>\n",
       "    </tr>\n",
       "    <tr>\n",
       "      <th>1</th>\n",
       "      <td>37</td>\n",
       "      <td>1</td>\n",
       "      <td>2</td>\n",
       "      <td>130</td>\n",
       "      <td>250</td>\n",
       "      <td>0</td>\n",
       "      <td>1</td>\n",
       "      <td>187</td>\n",
       "      <td>0</td>\n",
       "      <td>3.5</td>\n",
       "      <td>0</td>\n",
       "      <td>0</td>\n",
       "      <td>2</td>\n",
       "      <td>1</td>\n",
       "    </tr>\n",
       "    <tr>\n",
       "      <th>2</th>\n",
       "      <td>41</td>\n",
       "      <td>0</td>\n",
       "      <td>1</td>\n",
       "      <td>130</td>\n",
       "      <td>204</td>\n",
       "      <td>0</td>\n",
       "      <td>0</td>\n",
       "      <td>172</td>\n",
       "      <td>0</td>\n",
       "      <td>1.4</td>\n",
       "      <td>2</td>\n",
       "      <td>0</td>\n",
       "      <td>2</td>\n",
       "      <td>1</td>\n",
       "    </tr>\n",
       "    <tr>\n",
       "      <th>3</th>\n",
       "      <td>56</td>\n",
       "      <td>1</td>\n",
       "      <td>1</td>\n",
       "      <td>120</td>\n",
       "      <td>236</td>\n",
       "      <td>0</td>\n",
       "      <td>1</td>\n",
       "      <td>178</td>\n",
       "      <td>0</td>\n",
       "      <td>0.8</td>\n",
       "      <td>2</td>\n",
       "      <td>0</td>\n",
       "      <td>2</td>\n",
       "      <td>1</td>\n",
       "    </tr>\n",
       "    <tr>\n",
       "      <th>4</th>\n",
       "      <td>57</td>\n",
       "      <td>0</td>\n",
       "      <td>0</td>\n",
       "      <td>120</td>\n",
       "      <td>354</td>\n",
       "      <td>0</td>\n",
       "      <td>1</td>\n",
       "      <td>163</td>\n",
       "      <td>1</td>\n",
       "      <td>0.6</td>\n",
       "      <td>2</td>\n",
       "      <td>0</td>\n",
       "      <td>2</td>\n",
       "      <td>1</td>\n",
       "    </tr>\n",
       "  </tbody>\n",
       "</table>\n",
       "</div>"
      ],
      "text/plain": [
       "   age  sex  cp  trtbps  chol  fbs  restecg  thalachh  exng  oldpeak  slp  \\\n",
       "0   63    1   3     145   233    1        0       150     0      2.3    0   \n",
       "1   37    1   2     130   250    0        1       187     0      3.5    0   \n",
       "2   41    0   1     130   204    0        0       172     0      1.4    2   \n",
       "3   56    1   1     120   236    0        1       178     0      0.8    2   \n",
       "4   57    0   0     120   354    0        1       163     1      0.6    2   \n",
       "\n",
       "   caa  thall  output  \n",
       "0    0      1       1  \n",
       "1    0      2       1  \n",
       "2    0      2       1  \n",
       "3    0      2       1  \n",
       "4    0      2       1  "
      ]
     },
     "execution_count": 2,
     "metadata": {},
     "output_type": "execute_result"
    }
   ],
   "source": [
    "df=pd.read_csv(\"heart.csv\")\n",
    "df.head()"
   ]
  },
  {
   "cell_type": "code",
   "execution_count": 3,
   "id": "cadd020e",
   "metadata": {
    "ExecuteTime": {
     "end_time": "2023-11-02T06:28:13.090018200Z",
     "start_time": "2023-11-02T06:28:13.071017500Z"
    },
    "execution": {
     "iopub.execute_input": "2023-11-02T08:02:41.387217Z",
     "iopub.status.busy": "2023-11-02T08:02:41.386819Z",
     "iopub.status.idle": "2023-11-02T08:02:41.418713Z",
     "shell.execute_reply": "2023-11-02T08:02:41.417483Z"
    },
    "jupyter": {
     "outputs_hidden": false
    },
    "papermill": {
     "duration": 0.042161,
     "end_time": "2023-11-02T08:02:41.421737",
     "exception": false,
     "start_time": "2023-11-02T08:02:41.379576",
     "status": "completed"
    },
    "tags": []
   },
   "outputs": [
    {
     "name": "stdout",
     "output_type": "stream",
     "text": [
      "<class 'pandas.core.frame.DataFrame'>\n",
      "RangeIndex: 303 entries, 0 to 302\n",
      "Data columns (total 14 columns):\n",
      " #   Column    Non-Null Count  Dtype  \n",
      "---  ------    --------------  -----  \n",
      " 0   age       303 non-null    int64  \n",
      " 1   sex       303 non-null    int64  \n",
      " 2   cp        303 non-null    int64  \n",
      " 3   trtbps    303 non-null    int64  \n",
      " 4   chol      303 non-null    int64  \n",
      " 5   fbs       303 non-null    int64  \n",
      " 6   restecg   303 non-null    int64  \n",
      " 7   thalachh  303 non-null    int64  \n",
      " 8   exng      303 non-null    int64  \n",
      " 9   oldpeak   303 non-null    float64\n",
      " 10  slp       303 non-null    int64  \n",
      " 11  caa       303 non-null    int64  \n",
      " 12  thall     303 non-null    int64  \n",
      " 13  output    303 non-null    int64  \n",
      "dtypes: float64(1), int64(13)\n",
      "memory usage: 33.3 KB\n"
     ]
    }
   ],
   "source": [
    "df.info()"
   ]
  },
  {
   "cell_type": "code",
   "execution_count": null,
   "id": "b48145d3",
   "metadata": {
    "ExecuteTime": {
     "end_time": "2023-11-02T06:28:59.029303900Z",
     "start_time": "2023-11-02T06:28:13.081015200Z"
    },
    "execution": {
     "iopub.execute_input": "2023-11-02T08:02:41.435842Z",
     "iopub.status.busy": "2023-11-02T08:02:41.435396Z",
     "iopub.status.idle": "2023-11-02T08:04:02.508197Z",
     "shell.execute_reply": "2023-11-02T08:04:02.506863Z"
    },
    "jupyter": {
     "outputs_hidden": false
    },
    "papermill": {
     "duration": 81.11112,
     "end_time": "2023-11-02T08:04:02.539077",
     "exception": false,
     "start_time": "2023-11-02T08:02:41.427957",
     "status": "completed"
    },
    "tags": []
   },
   "outputs": [
    {
     "data": {
      "text/plain": [
       "<seaborn.axisgrid.PairGrid at 0x22e5908e380>"
      ]
     },
     "execution_count": 4,
     "metadata": {},
     "output_type": "execute_result"
    }
   ],
   "source": [
    "sns.pairplot(df,kind='scatter')"
   ]
  },
  {
   "cell_type": "code",
   "execution_count": null,
   "id": "0a876c37",
   "metadata": {
    "ExecuteTime": {
     "end_time": "2023-11-02T06:29:00.906992500Z",
     "start_time": "2023-11-02T06:28:59.028346400Z"
    },
    "execution": {
     "iopub.execute_input": "2023-11-02T08:04:02.576892Z",
     "iopub.status.busy": "2023-11-02T08:04:02.576487Z",
     "iopub.status.idle": "2023-11-02T08:04:02.947758Z",
     "shell.execute_reply": "2023-11-02T08:04:02.946605Z"
    },
    "jupyter": {
     "outputs_hidden": false
    },
    "papermill": {
     "duration": 0.393338,
     "end_time": "2023-11-02T08:04:02.950200",
     "exception": false,
     "start_time": "2023-11-02T08:04:02.556862",
     "status": "completed"
    },
    "tags": []
   },
   "outputs": [],
   "source": [
    "df.describe()"
   ]
  },
  {
   "cell_type": "code",
   "execution_count": null,
   "id": "86c09bc6",
   "metadata": {
    "ExecuteTime": {
     "end_time": "2023-11-02T06:29:00.907912900Z",
     "start_time": "2023-11-02T06:28:59.105805200Z"
    },
    "execution": {
     "iopub.execute_input": "2023-11-02T08:04:02.989343Z",
     "iopub.status.busy": "2023-11-02T08:04:02.988629Z",
     "iopub.status.idle": "2023-11-02T08:04:03.003779Z",
     "shell.execute_reply": "2023-11-02T08:04:03.002609Z"
    },
    "jupyter": {
     "outputs_hidden": false
    },
    "papermill": {
     "duration": 0.03824,
     "end_time": "2023-11-02T08:04:03.006719",
     "exception": false,
     "start_time": "2023-11-02T08:04:02.968479",
     "status": "completed"
    },
    "tags": []
   },
   "outputs": [],
   "source": [
    "for i in df.columns:\n",
    "\n",
    "    print(f'{i}:\\n {df[i].unique()}')"
   ]
  },
  {
   "cell_type": "code",
   "execution_count": null,
   "id": "156ab682",
   "metadata": {
    "ExecuteTime": {
     "end_time": "2023-11-02T06:38:12.916587400Z",
     "start_time": "2023-11-02T06:38:11.415481500Z"
    },
    "execution": {
     "iopub.execute_input": "2023-11-02T08:04:03.045840Z",
     "iopub.status.busy": "2023-11-02T08:04:03.045400Z",
     "iopub.status.idle": "2023-11-02T08:04:04.290059Z",
     "shell.execute_reply": "2023-11-02T08:04:04.288724Z"
    },
    "jupyter": {
     "outputs_hidden": false
    },
    "papermill": {
     "duration": 1.269033,
     "end_time": "2023-11-02T08:04:04.294007",
     "exception": false,
     "start_time": "2023-11-02T08:04:03.024974",
     "status": "completed"
    },
    "tags": []
   },
   "outputs": [],
   "source": [
    "plt.figure(figsize=(15,15))\n",
    "sns.heatmap(data=df.corr(),annot=True)"
   ]
  },
  {
   "cell_type": "code",
   "execution_count": null,
   "id": "fe073b58",
   "metadata": {
    "ExecuteTime": {
     "end_time": "2023-11-02T06:46:12.746884400Z",
     "start_time": "2023-11-02T06:46:12.449218900Z"
    },
    "execution": {
     "iopub.execute_input": "2023-11-02T08:04:04.338870Z",
     "iopub.status.busy": "2023-11-02T08:04:04.338464Z",
     "iopub.status.idle": "2023-11-02T08:04:04.695193Z",
     "shell.execute_reply": "2023-11-02T08:04:04.693950Z"
    },
    "jupyter": {
     "outputs_hidden": false
    },
    "papermill": {
     "duration": 0.382584,
     "end_time": "2023-11-02T08:04:04.697664",
     "exception": false,
     "start_time": "2023-11-02T08:04:04.315080",
     "status": "completed"
    },
    "tags": []
   },
   "outputs": [],
   "source": [
    "sns.histplot(data=df,x='output')"
   ]
  },
  {
   "cell_type": "code",
   "execution_count": null,
   "id": "7f82efb4",
   "metadata": {
    "ExecuteTime": {
     "end_time": "2023-11-02T07:46:28.891388900Z",
     "start_time": "2023-11-02T07:46:27.790200900Z"
    },
    "execution": {
     "iopub.execute_input": "2023-11-02T08:04:04.742552Z",
     "iopub.status.busy": "2023-11-02T08:04:04.742083Z",
     "iopub.status.idle": "2023-11-02T08:04:05.162828Z",
     "shell.execute_reply": "2023-11-02T08:04:05.161772Z"
    },
    "jupyter": {
     "outputs_hidden": false
    },
    "papermill": {
     "duration": 0.447057,
     "end_time": "2023-11-02T08:04:05.165957",
     "exception": false,
     "start_time": "2023-11-02T08:04:04.718900",
     "status": "completed"
    },
    "tags": []
   },
   "outputs": [],
   "source": [
    "from sklearn.svm import SVC\n",
    "from sklearn.preprocessing import LabelEncoder, StandardScaler\n",
    "from sklearn.metrics import precision_score,accuracy_score\n",
    "from sklearn.model_selection import StratifiedKFold"
   ]
  },
  {
   "cell_type": "code",
   "execution_count": null,
   "id": "5cf48e49",
   "metadata": {
    "ExecuteTime": {
     "end_time": "2023-11-02T07:46:31.260323400Z",
     "start_time": "2023-11-02T07:46:31.242719900Z"
    },
    "execution": {
     "iopub.execute_input": "2023-11-02T08:04:05.210430Z",
     "iopub.status.busy": "2023-11-02T08:04:05.210016Z",
     "iopub.status.idle": "2023-11-02T08:04:05.216150Z",
     "shell.execute_reply": "2023-11-02T08:04:05.214754Z"
    },
    "jupyter": {
     "outputs_hidden": false
    },
    "papermill": {
     "duration": 0.031655,
     "end_time": "2023-11-02T08:04:05.218771",
     "exception": false,
     "start_time": "2023-11-02T08:04:05.187116",
     "status": "completed"
    },
    "tags": []
   },
   "outputs": [],
   "source": [
    "scaledfeatures=['age','trtbps','chol','thalachh','oldpeak']\n"
   ]
  },
  {
   "cell_type": "code",
   "execution_count": null,
   "id": "0d1c427b",
   "metadata": {
    "ExecuteTime": {
     "end_time": "2023-11-02T07:52:27.062558800Z",
     "start_time": "2023-11-02T07:52:26.953515700Z"
    },
    "execution": {
     "iopub.execute_input": "2023-11-02T08:04:05.264228Z",
     "iopub.status.busy": "2023-11-02T08:04:05.263829Z",
     "iopub.status.idle": "2023-11-02T08:04:05.352249Z",
     "shell.execute_reply": "2023-11-02T08:04:05.350886Z"
    },
    "jupyter": {
     "outputs_hidden": false
    },
    "papermill": {
     "duration": 0.114697,
     "end_time": "2023-11-02T08:04:05.354838",
     "exception": false,
     "start_time": "2023-11-02T08:04:05.240141",
     "status": "completed"
    },
    "tags": []
   },
   "outputs": [],
   "source": [
    "scaler=StandardScaler()\n",
    "model=SVC()\n",
    "\n",
    "X=df.drop(columns=['output'])\n",
    "y=df.output\n",
    "\n",
    "X[scaledfeatures]=scaler.fit_transform((X[scaledfeatures]))\n",
    "\n",
    "stk=StratifiedKFold(n_splits=6,shuffle=True,random_state=0)\n",
    "accuracy=[]\n",
    "precision=[]\n",
    "for train_index, test_index in stk.split(X,y):\n",
    "    train_x,test_x= X.iloc[train_index],X.iloc[test_index]\n",
    "    train_y,test_y= y.iloc[train_index],y.iloc[test_index]\n",
    "\n",
    "    model.fit(train_x,train_y)\n",
    "    prediction=model.predict(test_x)\n",
    "    accuracy.append(accuracy_score(test_y,prediction))\n",
    "    precision.append(precision_score(test_y,prediction))\n",
    "print(f'maximal accuracy: {max(accuracy)}')\n",
    "print(f'maximal precision: {max(precision)}')"
   ]
  }
 ],
 "metadata": {
  "kernelspec": {
   "display_name": "Python 3 (ipykernel)",
   "language": "python",
   "name": "python3"
  },
  "language_info": {
   "codemirror_mode": {
    "name": "ipython",
    "version": 3
   },
   "file_extension": ".py",
   "mimetype": "text/x-python",
   "name": "python",
   "nbconvert_exporter": "python",
   "pygments_lexer": "ipython3",
   "version": "3.10.9"
  },
  "papermill": {
   "default_parameters": {},
   "duration": 92.584443,
   "end_time": "2023-11-02T08:04:07.896487",
   "environment_variables": {},
   "exception": null,
   "input_path": "__notebook__.ipynb",
   "output_path": "__notebook__.ipynb",
   "parameters": {},
   "start_time": "2023-11-02T08:02:35.312044",
   "version": "2.4.0"
  }
 },
 "nbformat": 4,
 "nbformat_minor": 5
}
